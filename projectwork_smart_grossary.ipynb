{
  "nbformat": 4,
  "nbformat_minor": 0,
  "metadata": {
    "colab": {
      "provenance": [],
      "include_colab_link": true
    },
    "kernelspec": {
      "name": "python3",
      "display_name": "Python 3"
    },
    "language_info": {
      "name": "python"
    }
  },
  "cells": [
    {
      "cell_type": "markdown",
      "metadata": {
        "id": "view-in-github",
        "colab_type": "text"
      },
      "source": [
        "<a href=\"https://colab.research.google.com/github/praveenkummari1126/Python_coding_practice/blob/main/projectwork_smart_grossary.ipynb\" target=\"_parent\"><img src=\"https://colab.research.google.com/assets/colab-badge.svg\" alt=\"Open In Colab\"/></a>"
      ]
    },
    {
      "cell_type": "code",
      "execution_count": null,
      "metadata": {
        "id": "8SdUbBWU8Kk4"
      },
      "outputs": [],
      "source": [
        "pantry={}\n",
        "recipes={}\n",
        "prices={\n",
        "    \"flour\":65,\n",
        "    \"milk\":50,\n",
        "    \"eggs\":16,\n",
        "    \"butter\":120,\n",
        "    \"sugar\":40\n",
        "}"
      ]
    },
    {
      "cell_type": "code",
      "source": [
        "#add pantry items\n",
        "def add_to_pantry():\n",
        "  item=input(\"enter item\")\n",
        "  quantity=float(f\"enter the quantity\")\n",
        "  if item in pantry:\n",
        "    pantry[item]+=quantity\n",
        "  else:\n",
        "    pantry[item]=quantity\n",
        "  print(f\"added {quantity} of {item} to the pantry\")\n"
      ],
      "metadata": {
        "id": "lEUIM__C90KB"
      },
      "execution_count": null,
      "outputs": []
    },
    {
      "cell_type": "code",
      "source": [
        "def view_pantry():\n",
        "  print(\"\\n pantry items\")\n",
        "  for item,quantity in pantry.items():\n",
        "    print(f\"{items}:{quantity}\")\n"
      ],
      "metadata": {
        "id": "R4UmfKNK_pl3"
      },
      "execution_count": null,
      "outputs": []
    },
    {
      "cell_type": "code",
      "source": [
        "#add recipes\n",
        "def add_recipe():\n",
        "  recipe_name=input(\"enter recipe name:\")\n",
        "  ingredients={}\n",
        "  while True:\n",
        "    ingredient=input(\"enter the ingredient\")\n",
        "    if ingredient.lower()==\"done\":\n",
        "      break\n",
        "    quantity=float(input(f\"enter quantity of {ingredient}:\"))\n",
        "    ingredients[ingredient]=quantity\n",
        "  recipes[recipe_name]=ingredients\n",
        "  print(f\"recipe '{recipe_name}' added\")\n",
        "\n"
      ],
      "metadata": {
        "id": "BvXIXpLxBLJ_"
      },
      "execution_count": null,
      "outputs": []
    },
    {
      "cell_type": "code",
      "source": [
        "#view recipes\n",
        "def view_recipes():\n",
        "  print(\"\\nRecipes:\")\n",
        "  for recipe,ingredients in recipes.items():\n",
        "    print(f\"{recipe}:\")\n",
        "    for ingredient,quantity in ingredients.items():\n",
        "      print(f\"{ingredient}:{quantity}\")\n"
      ],
      "metadata": {
        "id": "d7Mh2NgXEDlb"
      },
      "execution_count": null,
      "outputs": []
    },
    {
      "cell_type": "code",
      "source": [
        "#generate Grocery list\n",
        "def generate_grocery_list():\n",
        "  print(\"\\nAvailable recipes\")\n",
        "  for recipe in recipes.keys():\n",
        "    print(f\"{recipe}\")\n",
        "  selected_recipes=input(\"enter recipe name separated by commas\").split(\",\")\n",
        "  shopping_list={}\n",
        "  for recipe in selected_recipes:\n",
        "    recipe=recipe.strip()\n",
        "    if recipe in recipes:\n",
        "      for ingredient,quantity in recipes[recipe].items():\n",
        "        if ingredient in shopping_list:\n",
        "          shopping_list[ingredient]+=quantity\n",
        "        else:\n",
        "          shopping_list[ingredient]=quantity\n",
        "   for ingredient in pantry:\n",
        "    if ingredient in shopping_list:\n",
        "      shopping_list[ingredient]-=pantry[ingredient]\n",
        "      if shopping_list[ingredient]<=0:\n",
        "        del shopping_list[ingredient]\n",
        "\n",
        "\n",
        "\n"
      ],
      "metadata": {
        "id": "7-I8NVblFF_K"
      },
      "execution_count": null,
      "outputs": []
    },
    {
      "cell_type": "code",
      "source": [
        "total_cost=0\n",
        "    for ingredient,quantity in shopping_list.items():\n",
        "      cost=quantity*prices.get(ingredient,0)\n",
        "      total_cost+=cost\n",
        "      print(f\"\\ntotal estimated cost:{total_cost} \")\n"
      ],
      "metadata": {
        "id": "htJos_PWKIbo"
      },
      "execution_count": null,
      "outputs": []
    },
    {
      "cell_type": "code",
      "source": [
        "def display_menu():\n",
        "  print(\"smart grocery\")\n",
        "  print(\"1.add item to pantry\")\n",
        "  print(\"2. view pantry\")\n",
        "  print(\"3.add recipe\")\n",
        "  print(\"4. view recipes\")\n",
        "  print(\"5.generate grocery list\")\n",
        "  print(\"exit\")"
      ],
      "metadata": {
        "id": "J62DsSBrKJz3"
      },
      "execution_count": null,
      "outputs": []
    },
    {
      "cell_type": "code",
      "source": [
        "while True:\n",
        "  display_menu()\n",
        "  choice=input(\"enter your choice\")\n",
        "  if choice==\"1':\n",
        "    add_to_pantry()\n",
        "  elif choice==\"2\":\n",
        "    view_pantry()\n",
        "  elif choice==\"3\":\n",
        "    add_recipe()\n",
        "  elif choice==\"4\":\n",
        "    view recipes()\n",
        "  elif choice==\"5\":\n",
        "    generate_grocery_list()\n",
        "  elif choice==\"6\":\n",
        "    print(\"exit\")\n",
        "    break\n",
        "  else:\n",
        "    print(\"invalid choice\")\n",
        "\n",
        "\n"
      ],
      "metadata": {
        "id": "rfP550EPKWiY"
      },
      "execution_count": null,
      "outputs": []
    }
  ]
}